{
 "cells": [
  {
   "cell_type": "markdown",
   "id": "b767a27e",
   "metadata": {},
   "source": [
    "Import the packages we need"
   ]
  },
  {
   "cell_type": "code",
   "execution_count": null,
   "id": "96448f7d",
   "metadata": {},
   "outputs": [],
   "source": [
    "from flask import Flask"
   ]
  },
  {
   "cell_type": "markdown",
   "id": "43674b1b",
   "metadata": {},
   "source": [
    "Set up a Flask app"
   ]
  },
  {
   "cell_type": "code",
   "execution_count": null,
   "id": "9e25c79e",
   "metadata": {},
   "outputs": [],
   "source": [
    "app = Flask(__name__)"
   ]
  },
  {
   "cell_type": "markdown",
   "id": "07119ad0",
   "metadata": {},
   "source": [
    "The basic app main page"
   ]
  },
  {
   "cell_type": "code",
   "execution_count": null,
   "id": "2d11dcee",
   "metadata": {},
   "outputs": [],
   "source": [
    "@app.route('/')\n",
    "def index():\n",
    "    return \"Hello, World!\""
   ]
  },
  {
   "cell_type": "markdown",
   "id": "8aef33d9",
   "metadata": {},
   "source": [
    "Run the app"
   ]
  },
  {
   "cell_type": "code",
   "execution_count": 4,
   "id": "8c85c007",
   "metadata": {
    "scrolled": true
   },
   "outputs": [],
   "source": [
    "app.run(debug=False)"
   ]
  },
  {
   "cell_type": "code",
   "execution_count": null,
   "id": "838e7ebe",
   "metadata": {},
   "outputs": [],
   "source": []
  }
 ],
 "metadata": {
  "kernelspec": {
   "display_name": "Python 3 (ipykernel)",
   "language": "python",
   "name": "python3"
  },
  "language_info": {
   "codemirror_mode": {
    "name": "ipython",
    "version": 3
   },
   "file_extension": ".py",
   "mimetype": "text/x-python",
   "name": "python",
   "nbconvert_exporter": "python",
   "pygments_lexer": "ipython3",
   "version": "3.9.17"
  }
 },
 "nbformat": 4,
 "nbformat_minor": 5
}
